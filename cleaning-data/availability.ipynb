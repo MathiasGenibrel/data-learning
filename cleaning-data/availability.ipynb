{
 "cells": [
  {
   "cell_type": "code",
   "execution_count": 22,
   "metadata": {
    "collapsed": true
   },
   "outputs": [
    {
     "data": {
      "text/plain": "                  area_type   availability                  location  \\\n0      Super built-up  Area         19-Dec  Electronic City Phase II   \n1                Plot  Area  Ready To Move          Chikka Tirupathi   \n2            Built-up  Area  Ready To Move               Uttarahalli   \n3      Super built-up  Area  Ready To Move        Lingadheeranahalli   \n4      Super built-up  Area  Ready To Move                  Kothanur   \n...                     ...            ...                       ...   \n13315        Built-up  Area  Ready To Move                Whitefield   \n13316  Super built-up  Area  Ready To Move             Richards Town   \n13317        Built-up  Area  Ready To Move     Raja Rajeshwari Nagar   \n13318  Super built-up  Area         18-Jun           Padmanabhanagar   \n13319  Super built-up  Area  Ready To Move              Doddathoguru   \n\n            size  society total_sqft  bath  balcony   price  \n0          2 BHK  Coomee        1056   2.0      1.0   39.07  \n1      4 Bedroom  Theanmp       2600   5.0      3.0  120.00  \n2          3 BHK      NaN       1440   2.0      3.0   62.00  \n3          3 BHK  Soiewre       1521   3.0      1.0   95.00  \n4          2 BHK      NaN       1200   2.0      1.0   51.00  \n...          ...      ...        ...   ...      ...     ...  \n13315  5 Bedroom  ArsiaEx       3453   4.0      0.0  231.00  \n13316      4 BHK      NaN       3600   5.0      NaN  400.00  \n13317      2 BHK  Mahla T       1141   2.0      1.0   60.00  \n13318      4 BHK  SollyCl       4689   4.0      1.0  488.00  \n13319      1 BHK      NaN        550   1.0      1.0   17.00  \n\n[13320 rows x 9 columns]",
      "text/html": "<div>\n<style scoped>\n    .dataframe tbody tr th:only-of-type {\n        vertical-align: middle;\n    }\n\n    .dataframe tbody tr th {\n        vertical-align: top;\n    }\n\n    .dataframe thead th {\n        text-align: right;\n    }\n</style>\n<table border=\"1\" class=\"dataframe\">\n  <thead>\n    <tr style=\"text-align: right;\">\n      <th></th>\n      <th>area_type</th>\n      <th>availability</th>\n      <th>location</th>\n      <th>size</th>\n      <th>society</th>\n      <th>total_sqft</th>\n      <th>bath</th>\n      <th>balcony</th>\n      <th>price</th>\n    </tr>\n  </thead>\n  <tbody>\n    <tr>\n      <th>0</th>\n      <td>Super built-up  Area</td>\n      <td>19-Dec</td>\n      <td>Electronic City Phase II</td>\n      <td>2 BHK</td>\n      <td>Coomee</td>\n      <td>1056</td>\n      <td>2.0</td>\n      <td>1.0</td>\n      <td>39.07</td>\n    </tr>\n    <tr>\n      <th>1</th>\n      <td>Plot  Area</td>\n      <td>Ready To Move</td>\n      <td>Chikka Tirupathi</td>\n      <td>4 Bedroom</td>\n      <td>Theanmp</td>\n      <td>2600</td>\n      <td>5.0</td>\n      <td>3.0</td>\n      <td>120.00</td>\n    </tr>\n    <tr>\n      <th>2</th>\n      <td>Built-up  Area</td>\n      <td>Ready To Move</td>\n      <td>Uttarahalli</td>\n      <td>3 BHK</td>\n      <td>NaN</td>\n      <td>1440</td>\n      <td>2.0</td>\n      <td>3.0</td>\n      <td>62.00</td>\n    </tr>\n    <tr>\n      <th>3</th>\n      <td>Super built-up  Area</td>\n      <td>Ready To Move</td>\n      <td>Lingadheeranahalli</td>\n      <td>3 BHK</td>\n      <td>Soiewre</td>\n      <td>1521</td>\n      <td>3.0</td>\n      <td>1.0</td>\n      <td>95.00</td>\n    </tr>\n    <tr>\n      <th>4</th>\n      <td>Super built-up  Area</td>\n      <td>Ready To Move</td>\n      <td>Kothanur</td>\n      <td>2 BHK</td>\n      <td>NaN</td>\n      <td>1200</td>\n      <td>2.0</td>\n      <td>1.0</td>\n      <td>51.00</td>\n    </tr>\n    <tr>\n      <th>...</th>\n      <td>...</td>\n      <td>...</td>\n      <td>...</td>\n      <td>...</td>\n      <td>...</td>\n      <td>...</td>\n      <td>...</td>\n      <td>...</td>\n      <td>...</td>\n    </tr>\n    <tr>\n      <th>13315</th>\n      <td>Built-up  Area</td>\n      <td>Ready To Move</td>\n      <td>Whitefield</td>\n      <td>5 Bedroom</td>\n      <td>ArsiaEx</td>\n      <td>3453</td>\n      <td>4.0</td>\n      <td>0.0</td>\n      <td>231.00</td>\n    </tr>\n    <tr>\n      <th>13316</th>\n      <td>Super built-up  Area</td>\n      <td>Ready To Move</td>\n      <td>Richards Town</td>\n      <td>4 BHK</td>\n      <td>NaN</td>\n      <td>3600</td>\n      <td>5.0</td>\n      <td>NaN</td>\n      <td>400.00</td>\n    </tr>\n    <tr>\n      <th>13317</th>\n      <td>Built-up  Area</td>\n      <td>Ready To Move</td>\n      <td>Raja Rajeshwari Nagar</td>\n      <td>2 BHK</td>\n      <td>Mahla T</td>\n      <td>1141</td>\n      <td>2.0</td>\n      <td>1.0</td>\n      <td>60.00</td>\n    </tr>\n    <tr>\n      <th>13318</th>\n      <td>Super built-up  Area</td>\n      <td>18-Jun</td>\n      <td>Padmanabhanagar</td>\n      <td>4 BHK</td>\n      <td>SollyCl</td>\n      <td>4689</td>\n      <td>4.0</td>\n      <td>1.0</td>\n      <td>488.00</td>\n    </tr>\n    <tr>\n      <th>13319</th>\n      <td>Super built-up  Area</td>\n      <td>Ready To Move</td>\n      <td>Doddathoguru</td>\n      <td>1 BHK</td>\n      <td>NaN</td>\n      <td>550</td>\n      <td>1.0</td>\n      <td>1.0</td>\n      <td>17.00</td>\n    </tr>\n  </tbody>\n</table>\n<p>13320 rows × 9 columns</p>\n</div>"
     },
     "execution_count": 22,
     "metadata": {},
     "output_type": "execute_result"
    }
   ],
   "source": [
    "import pandas as pd\n",
    "import datetime\n",
    "\n",
    "# Read the data from file using read_csv\n",
    "df = pd.read_csv(\"../data/dataset.csv\")\n",
    "\n",
    "df"
   ]
  },
  {
   "cell_type": "code",
   "execution_count": 23,
   "outputs": [],
   "source": [
    "# Used to test regular expressions\n",
    "import re\n",
    "\n",
    "# Convert the date column \"availability\" to datetime\n",
    "# If the value does not contain any digits then set the date to 01-01-2023, \n",
    "# (because if the value does not contain any digits then it is a string like \"Ready To Move\" or \"Immediate Possession\")\n",
    "# For each date with a missing year, set the year to 2023\n",
    "df.availability = df.availability.map(\n",
    "    lambda availability_date:\n",
    "    # With f\"\"\"{availability_date}-2023\"\"\", we are adding the year 2023 to the date, because in our dataset the year is missing.\n",
    "    datetime.datetime.strptime(f\"\"\"{availability_date}-2023\"\"\", \"%d-%b-%Y\")\n",
    "\n",
    "    # Check the value of availability_date, if it contains any digits then return the date, else return the date 01-01-2023\n",
    "    if re.search(r\"\\d+\", availability_date)\n",
    "    else datetime.datetime.strptime(\"01-01-2023\", \"%d-%m-%Y\")\n",
    ")"
   ],
   "metadata": {
    "collapsed": false
   }
  },
  {
   "cell_type": "code",
   "execution_count": 24,
   "outputs": [
    {
     "data": {
      "text/plain": "                  area_type availability                  location       size  \\\n0      Super built-up  Area   2023-12-19  Electronic City Phase II      2 BHK   \n1                Plot  Area   2023-01-01          Chikka Tirupathi  4 Bedroom   \n2            Built-up  Area   2023-01-01               Uttarahalli      3 BHK   \n3      Super built-up  Area   2023-01-01        Lingadheeranahalli      3 BHK   \n4      Super built-up  Area   2023-01-01                  Kothanur      2 BHK   \n...                     ...          ...                       ...        ...   \n13315        Built-up  Area   2023-01-01                Whitefield  5 Bedroom   \n13316  Super built-up  Area   2023-01-01             Richards Town      4 BHK   \n13317        Built-up  Area   2023-01-01     Raja Rajeshwari Nagar      2 BHK   \n13318  Super built-up  Area   2023-06-18           Padmanabhanagar      4 BHK   \n13319  Super built-up  Area   2023-01-01              Doddathoguru      1 BHK   \n\n       society total_sqft  bath  balcony   price  \n0      Coomee        1056   2.0      1.0   39.07  \n1      Theanmp       2600   5.0      3.0  120.00  \n2          NaN       1440   2.0      3.0   62.00  \n3      Soiewre       1521   3.0      1.0   95.00  \n4          NaN       1200   2.0      1.0   51.00  \n...        ...        ...   ...      ...     ...  \n13315  ArsiaEx       3453   4.0      0.0  231.00  \n13316      NaN       3600   5.0      NaN  400.00  \n13317  Mahla T       1141   2.0      1.0   60.00  \n13318  SollyCl       4689   4.0      1.0  488.00  \n13319      NaN        550   1.0      1.0   17.00  \n\n[13320 rows x 9 columns]",
      "text/html": "<div>\n<style scoped>\n    .dataframe tbody tr th:only-of-type {\n        vertical-align: middle;\n    }\n\n    .dataframe tbody tr th {\n        vertical-align: top;\n    }\n\n    .dataframe thead th {\n        text-align: right;\n    }\n</style>\n<table border=\"1\" class=\"dataframe\">\n  <thead>\n    <tr style=\"text-align: right;\">\n      <th></th>\n      <th>area_type</th>\n      <th>availability</th>\n      <th>location</th>\n      <th>size</th>\n      <th>society</th>\n      <th>total_sqft</th>\n      <th>bath</th>\n      <th>balcony</th>\n      <th>price</th>\n    </tr>\n  </thead>\n  <tbody>\n    <tr>\n      <th>0</th>\n      <td>Super built-up  Area</td>\n      <td>2023-12-19</td>\n      <td>Electronic City Phase II</td>\n      <td>2 BHK</td>\n      <td>Coomee</td>\n      <td>1056</td>\n      <td>2.0</td>\n      <td>1.0</td>\n      <td>39.07</td>\n    </tr>\n    <tr>\n      <th>1</th>\n      <td>Plot  Area</td>\n      <td>2023-01-01</td>\n      <td>Chikka Tirupathi</td>\n      <td>4 Bedroom</td>\n      <td>Theanmp</td>\n      <td>2600</td>\n      <td>5.0</td>\n      <td>3.0</td>\n      <td>120.00</td>\n    </tr>\n    <tr>\n      <th>2</th>\n      <td>Built-up  Area</td>\n      <td>2023-01-01</td>\n      <td>Uttarahalli</td>\n      <td>3 BHK</td>\n      <td>NaN</td>\n      <td>1440</td>\n      <td>2.0</td>\n      <td>3.0</td>\n      <td>62.00</td>\n    </tr>\n    <tr>\n      <th>3</th>\n      <td>Super built-up  Area</td>\n      <td>2023-01-01</td>\n      <td>Lingadheeranahalli</td>\n      <td>3 BHK</td>\n      <td>Soiewre</td>\n      <td>1521</td>\n      <td>3.0</td>\n      <td>1.0</td>\n      <td>95.00</td>\n    </tr>\n    <tr>\n      <th>4</th>\n      <td>Super built-up  Area</td>\n      <td>2023-01-01</td>\n      <td>Kothanur</td>\n      <td>2 BHK</td>\n      <td>NaN</td>\n      <td>1200</td>\n      <td>2.0</td>\n      <td>1.0</td>\n      <td>51.00</td>\n    </tr>\n    <tr>\n      <th>...</th>\n      <td>...</td>\n      <td>...</td>\n      <td>...</td>\n      <td>...</td>\n      <td>...</td>\n      <td>...</td>\n      <td>...</td>\n      <td>...</td>\n      <td>...</td>\n    </tr>\n    <tr>\n      <th>13315</th>\n      <td>Built-up  Area</td>\n      <td>2023-01-01</td>\n      <td>Whitefield</td>\n      <td>5 Bedroom</td>\n      <td>ArsiaEx</td>\n      <td>3453</td>\n      <td>4.0</td>\n      <td>0.0</td>\n      <td>231.00</td>\n    </tr>\n    <tr>\n      <th>13316</th>\n      <td>Super built-up  Area</td>\n      <td>2023-01-01</td>\n      <td>Richards Town</td>\n      <td>4 BHK</td>\n      <td>NaN</td>\n      <td>3600</td>\n      <td>5.0</td>\n      <td>NaN</td>\n      <td>400.00</td>\n    </tr>\n    <tr>\n      <th>13317</th>\n      <td>Built-up  Area</td>\n      <td>2023-01-01</td>\n      <td>Raja Rajeshwari Nagar</td>\n      <td>2 BHK</td>\n      <td>Mahla T</td>\n      <td>1141</td>\n      <td>2.0</td>\n      <td>1.0</td>\n      <td>60.00</td>\n    </tr>\n    <tr>\n      <th>13318</th>\n      <td>Super built-up  Area</td>\n      <td>2023-06-18</td>\n      <td>Padmanabhanagar</td>\n      <td>4 BHK</td>\n      <td>SollyCl</td>\n      <td>4689</td>\n      <td>4.0</td>\n      <td>1.0</td>\n      <td>488.00</td>\n    </tr>\n    <tr>\n      <th>13319</th>\n      <td>Super built-up  Area</td>\n      <td>2023-01-01</td>\n      <td>Doddathoguru</td>\n      <td>1 BHK</td>\n      <td>NaN</td>\n      <td>550</td>\n      <td>1.0</td>\n      <td>1.0</td>\n      <td>17.00</td>\n    </tr>\n  </tbody>\n</table>\n<p>13320 rows × 9 columns</p>\n</div>"
     },
     "execution_count": 24,
     "metadata": {},
     "output_type": "execute_result"
    }
   ],
   "source": [
    "df"
   ],
   "metadata": {
    "collapsed": false
   }
  },
  {
   "cell_type": "code",
   "execution_count": null,
   "outputs": [],
   "source": [],
   "metadata": {
    "collapsed": false
   }
  }
 ],
 "metadata": {
  "kernelspec": {
   "display_name": "Python 3",
   "language": "python",
   "name": "python3"
  },
  "language_info": {
   "codemirror_mode": {
    "name": "ipython",
    "version": 2
   },
   "file_extension": ".py",
   "mimetype": "text/x-python",
   "name": "python",
   "nbconvert_exporter": "python",
   "pygments_lexer": "ipython2",
   "version": "2.7.6"
  }
 },
 "nbformat": 4,
 "nbformat_minor": 0
}
