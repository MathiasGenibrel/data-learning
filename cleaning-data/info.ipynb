{
 "cells": [
  {
   "cell_type": "code",
   "execution_count": 2,
   "metadata": {},
   "outputs": [
    {
     "name": "stdout",
     "output_type": "stream",
     "text": [
      "0.12 % Null values\n",
      "13320 rows before cleaning\n",
      "13304 rows after cleaning\n",
      "<class 'pandas.core.frame.DataFrame'>\n",
      "Int64Index: 13304 entries, 0 to 13319\n",
      "Data columns (total 11 columns):\n",
      " #   Column        Non-Null Count  Dtype         \n",
      "---  ------        --------------  -----         \n",
      " 0   area_type     13304 non-null  object        \n",
      " 1   availability  13304 non-null  datetime64[ns]\n",
      " 2   location      13303 non-null  object        \n",
      " 3   size          13304 non-null  int32         \n",
      " 4   society       7805 non-null   object        \n",
      " 5   total_sqft    13065 non-null  float64       \n",
      " 6   bath          13247 non-null  float64       \n",
      " 7   balcony       12711 non-null  float64       \n",
      " 8   price         13304 non-null  float64       \n",
      " 9   has_null      13304 non-null  bool          \n",
      " 10  type_of_size  13304 non-null  object        \n",
      "dtypes: bool(1), datetime64[ns](1), float64(4), int32(1), object(4)\n",
      "memory usage: 1.1+ MB\n"
     ]
    },
    {
     "name": "stderr",
     "output_type": "stream",
     "text": [
      "C:\\Users\\preel\\AppData\\Local\\Temp\\ipykernel_16440\\1080243494.py:39: FutureWarning: The default value of regex will change from True to False in a future version.\n",
      "  df['type_of_size'] = df['size'].str.replace('\\d+','').str.strip()\n"
     ]
    }
   ],
   "source": [
    "import pandas as pd\n",
    "import datetime\n",
    "\n",
    "# Read the data from file using read_csv\n",
    "df = pd.read_csv(\"../data/dataset.csv\")\n",
    "\n",
    "### Q1\n",
    "\n",
    "# Used to test regular expressions\n",
    "import re\n",
    "\n",
    "# Convert the date column \"availability\" to datetime\n",
    "# If the value does not contain any digits then set the date to 01-01-2023, \n",
    "# (because if the value does not contain any digits then it is a string like \"Ready To Move\" or \"Immediate Possession\")\n",
    "# For each date with a missing year, set the year to 2023\n",
    "df.availability = df.availability.map(\n",
    "    lambda availability_date:\n",
    "    # With f\"\"\"{availability_date}-2023\"\"\", we are adding the year 2023 to the date, because in our dataset the year is missing.\n",
    "    datetime.datetime.strptime(f\"\"\"{availability_date}-2023\"\"\", \"%d-%b-%Y\")\n",
    "\n",
    "    # Check the value of availability_date, if it contains any digits then return the date, else return the date 01-01-2023\n",
    "    if re.search(r\"\\d+\", availability_date)\n",
    "    else datetime.datetime.strptime(\"01-01-2023\", \"%d-%m-%Y\")\n",
    ")\n",
    "\n",
    "### Q2\n",
    "\n",
    "# Remove rows with zero values in size\n",
    "# Because otherwise we will not be able to train a model\n",
    "df[\"has_null\"] = df['size'].isnull()\n",
    "\n",
    "# We calculate the % of null values\n",
    "print(round(100*df[\"has_null\"].sum() / len(df), 2), \"% Null values\")\n",
    "\n",
    "print(len(df), \"rows before cleaning\")\n",
    "\n",
    "df = df[~df.has_null]\n",
    "print(len(df), \"rows after cleaning\")\n",
    "\n",
    "# We make the separation to retrieve the label in 'type_of_size'\n",
    "df['type_of_size'] = df['size'].str.replace('\\d+','').str.strip()\n",
    "\n",
    "#We will now separate the number from the text to only retrieve the number and replace it in the 'size' column\n",
    "df['size'] = df['size'].str.extract('(\\d+)', expand=False).astype(int)\n",
    "\n",
    "### Q3\n",
    "\n",
    "#  errors='coerce': replace non-convertible values with NaN\n",
    "df['total_sqft'] = pd.to_numeric(df['total_sqft'], errors='coerce')\n",
    "\n",
    "# # Displaying converted values\n",
    "# print(\"Converted values :\\n\", df.loc[~df['total_sqft'].isna(), 'total_sqft'])\n",
    "\n",
    "# # Displaying invalid values replaced by NaN\n",
    "# print(\"\\nInvalid values replaced by NaN :\\n\", df.loc[df['total_sqft'].isna(), 'total_sqft'])\n",
    "\n",
    "### Q4\n",
    "df.info()"
   ]
  }
 ],
 "metadata": {
  "kernelspec": {
   "display_name": "Python 3",
   "language": "python",
   "name": "python3"
  },
  "language_info": {
   "codemirror_mode": {
    "name": "ipython",
    "version": 3
   },
   "file_extension": ".py",
   "mimetype": "text/x-python",
   "name": "python",
   "nbconvert_exporter": "python",
   "pygments_lexer": "ipython3",
   "version": "3.11.2"
  },
  "orig_nbformat": 4
 },
 "nbformat": 4,
 "nbformat_minor": 2
}
