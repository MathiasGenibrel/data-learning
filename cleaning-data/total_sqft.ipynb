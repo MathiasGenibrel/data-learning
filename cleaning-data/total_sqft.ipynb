{
 "cells": [
  {
   "cell_type": "code",
   "execution_count": 1,
   "metadata": {},
   "outputs": [
    {
     "name": "stdout",
     "output_type": "stream",
     "text": [
      "                  area_type   availability                  location  \\\n",
      "0      Super built-up  Area         19-Dec  Electronic City Phase II   \n",
      "1                Plot  Area  Ready To Move          Chikka Tirupathi   \n",
      "2            Built-up  Area  Ready To Move               Uttarahalli   \n",
      "3      Super built-up  Area  Ready To Move        Lingadheeranahalli   \n",
      "4      Super built-up  Area  Ready To Move                  Kothanur   \n",
      "...                     ...            ...                       ...   \n",
      "13315        Built-up  Area  Ready To Move                Whitefield   \n",
      "13316  Super built-up  Area  Ready To Move             Richards Town   \n",
      "13317        Built-up  Area  Ready To Move     Raja Rajeshwari Nagar   \n",
      "13318  Super built-up  Area         18-Jun           Padmanabhanagar   \n",
      "13319  Super built-up  Area  Ready To Move              Doddathoguru   \n",
      "\n",
      "            size  society total_sqft  bath  balcony   price  \n",
      "0          2 BHK  Coomee        1056   2.0      1.0   39.07  \n",
      "1      4 Bedroom  Theanmp       2600   5.0      3.0  120.00  \n",
      "2          3 BHK      NaN       1440   2.0      3.0   62.00  \n",
      "3          3 BHK  Soiewre       1521   3.0      1.0   95.00  \n",
      "4          2 BHK      NaN       1200   2.0      1.0   51.00  \n",
      "...          ...      ...        ...   ...      ...     ...  \n",
      "13315  5 Bedroom  ArsiaEx       3453   4.0      0.0  231.00  \n",
      "13316      4 BHK      NaN       3600   5.0      NaN  400.00  \n",
      "13317      2 BHK  Mahla T       1141   2.0      1.0   60.00  \n",
      "13318      4 BHK  SollyCl       4689   4.0      1.0  488.00  \n",
      "13319      1 BHK      NaN        550   1.0      1.0   17.00  \n",
      "\n",
      "[13320 rows x 9 columns]\n"
     ]
    }
   ],
   "source": [
    "import pandas as pd\n",
    "\n",
    "# Read the data from file using read_csv\n",
    "data = pd.read_csv(\"../data/dataset.csv\")\n",
    "\n",
    "print(data)"
   ]
  }
 ],
 "metadata": {
  "kernelspec": {
   "display_name": "Python 3",
   "language": "python",
   "name": "python3"
  },
  "language_info": {
   "codemirror_mode": {
    "name": "ipython",
    "version": 3
   },
   "file_extension": ".py",
   "mimetype": "text/x-python",
   "name": "python",
   "nbconvert_exporter": "python",
   "pygments_lexer": "ipython3",
   "version": "3.11.2"
  },
  "orig_nbformat": 4
 },
 "nbformat": 4,
 "nbformat_minor": 2
}
