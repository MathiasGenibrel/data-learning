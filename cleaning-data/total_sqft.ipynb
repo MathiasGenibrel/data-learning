{
 "cells": [
  {
   "cell_type": "code",
   "execution_count": 26,
   "metadata": {},
   "outputs": [
    {
     "name": "stdout",
     "output_type": "stream",
     "text": [
      "Converted values :\n",
      " 0        1056.0\n",
      "1        2600.0\n",
      "2        1440.0\n",
      "3        1521.0\n",
      "4        1200.0\n",
      "          ...  \n",
      "13315    3453.0\n",
      "13316    3600.0\n",
      "13317    1141.0\n",
      "13318    4689.0\n",
      "13319     550.0\n",
      "Name: total_sqft, Length: 13073, dtype: float64\n",
      "\n",
      "Invalid values replaced by NaN :\n",
      " 30      NaN\n",
      "56      NaN\n",
      "81      NaN\n",
      "122     NaN\n",
      "137     NaN\n",
      "         ..\n",
      "12990   NaN\n",
      "13059   NaN\n",
      "13240   NaN\n",
      "13265   NaN\n",
      "13299   NaN\n",
      "Name: total_sqft, Length: 247, dtype: float64\n",
      "[PERCENTAGE OF NULL VALUE]: \n",
      " area_type        0.000000\n",
      "availability     0.000000\n",
      "location         0.007508\n",
      "size             0.120120\n",
      "society         41.306306\n",
      "total_sqft       1.854354\n",
      "bath             0.548048\n",
      "balcony          4.572072\n",
      "price            0.000000\n",
      "dtype: float64\n"
     ]
    }
   ],
   "source": [
    "import pandas as pd\n",
    "\n",
    "# Read the df from file using read_csv\n",
    "df = pd.read_csv(\"../data/dataset.csv\")\n",
    "\n",
    "#  errors='coerce': replace non-convertible values with NaN\n",
    "df['total_sqft'] = pd.to_numeric(df['total_sqft'], errors='coerce')\n",
    "\n",
    "# Displaying converted values\n",
    "print(\"Converted values :\\n\", df.loc[~df['total_sqft'].isna(), 'total_sqft'])\n",
    "\n",
    "# Displaying invalid values replaced by NaN\n",
    "print(\"\\nInvalid values replaced by NaN :\\n\", df.loc[df['total_sqft'].isna(), 'total_sqft'])\n",
    "print(\"[PERCENTAGE OF NULL VALUE]: \\n\", df.isnull().sum() / len(df) * 100)"
   ]
  }
 ],
 "metadata": {
  "kernelspec": {
   "display_name": "Python 3",
   "language": "python",
   "name": "python3"
  },
  "language_info": {
   "codemirror_mode": {
    "name": "ipython",
    "version": 3
   },
   "file_extension": ".py",
   "mimetype": "text/x-python",
   "name": "python",
   "nbconvert_exporter": "python",
   "pygments_lexer": "ipython3",
   "version": "3.11.2"
  },
  "orig_nbformat": 4
 },
 "nbformat": 4,
 "nbformat_minor": 2
}
